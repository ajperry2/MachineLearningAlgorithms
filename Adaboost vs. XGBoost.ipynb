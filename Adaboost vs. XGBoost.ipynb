{
 "cells": [
  {
   "cell_type": "markdown",
   "metadata": {
    "deletable": false,
    "editable": false,
    "nbgrader": {
     "checksum": "e48dfa30529c5d003afa0f89b5b66380",
     "grade": false,
     "grade_id": "cell-cfc24d80c2cf2c24",
     "locked": true,
     "schema_version": 1,
     "solution": false
    }
   },
   "source": [
    "# Adaboost\n",
    "For this exercise you will implement AdaBoost from scratch and applied it to a spam dataset. You will be classifying data into spam and not spam. You can call DecisionTreeClassifier from sklearn (with default max_depth=1) to learn your base classifiers.\n",
    "\n",
    "Here is how you train a decision tree classifier with weights.\n",
    "\n",
    "`\n",
    "h = DecisionTreeClassifier(max_depth=max_depth, random_state=0)\n",
    "h.fit(X, Y, sample_weight=w)\n",
    "`"
   ]
  },
  {
   "cell_type": "markdown",
   "metadata": {},
   "source": [
    "### Alan Perry"
   ]
  },
  {
   "cell_type": "code",
   "execution_count": 8,
   "metadata": {
    "ExecuteTime": {
     "end_time": "2019-02-13T00:42:29.713385Z",
     "start_time": "2019-02-13T00:42:29.710726Z"
    },
    "collapsed": true,
    "deletable": false,
    "editable": false,
    "nbgrader": {
     "checksum": "721eeb40a1514114e45b42ea010de91b",
     "grade": false,
     "grade_id": "cell-3478d607a536190b",
     "locked": true,
     "schema_version": 1,
     "solution": false
    }
   },
   "outputs": [],
   "source": [
    "import numpy as np\n",
    "from sklearn.tree import DecisionTreeClassifier"
   ]
  },
  {
   "cell_type": "code",
   "execution_count": 16,
   "metadata": {
    "ExecuteTime": {
     "end_time": "2019-02-10T22:36:20.494614Z",
     "start_time": "2019-02-10T22:36:20.489262Z"
    },
    "collapsed": true,
    "deletable": false,
    "editable": false,
    "nbgrader": {
     "checksum": "972dafdcfb3f1ff9461209980b03fa22",
     "grade": false,
     "grade_id": "cell-c56cb727222d9503",
     "locked": true,
     "schema_version": 1,
     "solution": false
    }
   },
   "outputs": [],
   "source": [
    "# accuracy computation\n",
    "# this data is not highly imbalance so accuracy is ok\n",
    "def accuracy(y, pred):\n",
    "    return np.sum(y == pred) / float(len(y)) "
   ]
  },
  {
   "cell_type": "code",
   "execution_count": 17,
   "metadata": {
    "ExecuteTime": {
     "end_time": "2019-02-10T22:36:20.991837Z",
     "start_time": "2019-02-10T22:36:20.971504Z"
    },
    "collapsed": true,
    "deletable": false,
    "nbgrader": {
     "checksum": "d133f796b3b7db028e1c1ed875771c65",
     "grade": false,
     "grade_id": "cell-1eaf818528c8d676",
     "locked": false,
     "schema_version": 1,
     "solution": true
    }
   },
   "outputs": [],
   "source": [
    "def parse_spambase_data(filename):\n",
    "    \"\"\" Given a filename return X and Y numpy arrays\n",
    "\n",
    "    X is of size number of rows x num_features\n",
    "    Y is an array of size the number of rows\n",
    "    Y is the last element of each row. (Convert 0 to -1)\n",
    "    \"\"\"\n",
    "    f = open(filename,'r')\n",
    "    lines = f.readlines()\n",
    "    num_rows = len(lines)\n",
    "    num_features = len(lines[0].split(','))\n",
    "    X = np.loadtxt(open(filename, 'r'), delimiter=\",\",usecols = range(num_features-1))\n",
    "\n",
    "    Y = np.zeros(num_rows)\n",
    "    Y= [int(x.split(',')[-1][0]) for x in lines]\n",
    "    Y = np.array([1 if _ else -1 for _ in Y])\n",
    "    f.close()\n",
    "    return X, Y"
   ]
  },
  {
   "cell_type": "code",
   "execution_count": 18,
   "metadata": {
    "ExecuteTime": {
     "end_time": "2019-02-10T22:36:21.868062Z",
     "start_time": "2019-02-10T22:36:21.856144Z"
    },
    "collapsed": true,
    "deletable": false,
    "editable": false,
    "nbgrader": {
     "checksum": "871278b33c2d3da9fb8d7cbf4f4dd23d",
     "grade": true,
     "grade_id": "cell-73926460e1f70f54",
     "locked": true,
     "points": 1,
     "schema_version": 1,
     "solution": false
    }
   },
   "outputs": [],
   "source": [
    "y_test = np.array([1., -1., 1., 1., -1., -1., 1., 1., 1., -1.])\n",
    "X, Y = parse_spambase_data(\"tiny.spam.train\")\n",
    "for i in range(len(y_test)): assert(y_test[i] == Y[i])\n",
    "n, m = X.shape\n",
    "assert(n == 10)\n",
    "assert(m == 57)"
   ]
  },
  {
   "cell_type": "code",
   "execution_count": 19,
   "metadata": {
    "ExecuteTime": {
     "end_time": "2019-02-10T22:36:22.822147Z",
     "start_time": "2019-02-10T22:36:22.805091Z"
    },
    "collapsed": true,
    "deletable": false,
    "nbgrader": {
     "checksum": "49946defde679e3d5067209990da8485",
     "grade": false,
     "grade_id": "cell-befcece7be9c6839",
     "locked": false,
     "schema_version": 1,
     "solution": true
    }
   },
   "outputs": [],
   "source": [
    "def adaboost(X, y, num_iter, max_depth=1):\n",
    "    \"\"\"Given an numpy matrix X, a array y and num_iter return trees and weights \n",
    "   \n",
    "    Input: X, y, num_iter\n",
    "    Outputs: array of trees from DecisionTreeClassifier\n",
    "             trees_weights array of floats\n",
    "    Assumes y is {-1, 1}\n",
    "    \"\"\"\n",
    "    trees = []\n",
    "    trees_weights = [] \n",
    "    N, _ = X.shape\n",
    "    d = np.ones(N) / N\n",
    "    \n",
    "    for tree_index in range(num_iter):\n",
    "        curr_tree = DecisionTreeClassifier(max_depth=max_depth)\n",
    "        curr_tree.fit(X=X,y=y, sample_weight=d)\n",
    "        curr_pred = curr_tree.predict(X)\n",
    "        print('curr_pred:',tree_index,' ',curr_pred)\n",
    "        incorrect = np.array(curr_pred != y)\n",
    "\n",
    "        curr_error = (d[incorrect].sum() / d.sum())\n",
    "        print('curr_error:',tree_index,' ',curr_error)\n",
    "        if curr_error < 1e-324:\n",
    "            curr_error = 1e-324\n",
    "        curr_alph = np.log((1-curr_error)/curr_error)\n",
    "        #update weights\n",
    "        print('curr_alph:',tree_index,' ',curr_alph)\n",
    "\n",
    "        d = d * np.exp(curr_alph*incorrect)\n",
    "        print('d:',tree_index,' ',d)\n",
    "\n",
    "        trees.append(curr_tree)\n",
    "        trees_weights.append(curr_alph)\n",
    "    return trees, trees_weights\n"
   ]
  },
  {
   "cell_type": "code",
   "execution_count": 20,
   "metadata": {
    "ExecuteTime": {
     "end_time": "2019-02-10T22:36:24.021889Z",
     "start_time": "2019-02-10T22:36:24.000644Z"
    },
    "deletable": false,
    "editable": false,
    "nbgrader": {
     "checksum": "a7c25b6f73f0861ca23b8fda93bcc4b5",
     "grade": true,
     "grade_id": "cell-4dc8edbf0e11fab8",
     "locked": true,
     "points": 1,
     "schema_version": 1,
     "solution": false
    }
   },
   "outputs": [
    {
     "name": "stdout",
     "output_type": "stream",
     "text": [
      "curr_pred: 0   [ 1 -1  1  1 -1 -1 -1  1  1 -1]\n",
      "curr_error: 0   0.1\n",
      "curr_alph: 0   2.1972245773362196\n",
      "d: 0   [0.1 0.1 0.1 0.1 0.1 0.1 0.9 0.1 0.1 0.1]\n",
      "curr_pred: 1   [ 1 -1  1  1 -1  1  1  1  1 -1]\n",
      "curr_error: 1   0.05555555555555555\n",
      "curr_alph: 1   2.833213344056216\n",
      "d: 1   [0.1 0.1 0.1 0.1 0.1 1.7 0.9 0.1 0.1 0.1]\n"
     ]
    }
   ],
   "source": [
    "X, Y = parse_spambase_data(\"tiny.spam.train\")\n",
    "trees, weights = adaboost(X, Y, 2)\n",
    "y_hat_0 = trees[0].predict(X)\n",
    "assert(len(trees) == 2)\n",
    "assert(len(weights) == 2)\n",
    "assert(isinstance(trees[0], DecisionTreeClassifier))\n",
    "assert(np.array_equal(y_hat_0[:5], [1.,-1.,1, 1, -1]))"
   ]
  },
  {
   "cell_type": "code",
   "execution_count": 21,
   "metadata": {
    "ExecuteTime": {
     "end_time": "2019-02-10T22:36:24.986542Z",
     "start_time": "2019-02-10T22:36:24.981594Z"
    },
    "collapsed": true,
    "deletable": false,
    "editable": false,
    "nbgrader": {
     "checksum": "2b8f4bd0c8741b22b8b1f01089416aee",
     "grade": true,
     "grade_id": "cell-8702186fedbd58e1",
     "locked": true,
     "points": 2,
     "schema_version": 1,
     "solution": false
    }
   },
   "outputs": [],
   "source": [
    "y_hat_0 = trees[0].predict(X)\n",
    "assert(np.array_equal(y_hat_0[:5], [1.,-1.,1, 1, -1]))"
   ]
  },
  {
   "cell_type": "code",
   "execution_count": 22,
   "metadata": {
    "ExecuteTime": {
     "end_time": "2019-02-10T22:36:25.988794Z",
     "start_time": "2019-02-10T22:36:25.978062Z"
    },
    "collapsed": true,
    "deletable": false,
    "nbgrader": {
     "checksum": "57a2d749acc1d974f996162a4fb190fc",
     "grade": false,
     "grade_id": "cell-50ad4a5c81e7c016",
     "locked": false,
     "schema_version": 1,
     "solution": true
    }
   },
   "outputs": [],
   "source": [
    "def adaboost_predict(X, trees, trees_weights):\n",
    "    \"\"\"Given X, trees and weights predict Y\n",
    "    \"\"\"\n",
    "    # X input, y output\n",
    "    N, _ =  X.shape\n",
    "    y = np.zeros(N)\n",
    "    for tree_index in range(len(trees)):\n",
    "        predictions = trees[tree_index].predict(X)\n",
    "        y = y + trees_weights[tree_index]*predictions\n",
    "    y = np.array([-1 if _ < 0 else 1 for _ in y])\n",
    "    return y\n"
   ]
  },
  {
   "cell_type": "code",
   "execution_count": 23,
   "metadata": {
    "ExecuteTime": {
     "end_time": "2019-02-10T22:36:26.761259Z",
     "start_time": "2019-02-10T22:36:26.750183Z"
    },
    "deletable": false,
    "editable": false,
    "nbgrader": {
     "checksum": "f7f00ac1cabd062ffb0fe8e87945b498",
     "grade": true,
     "grade_id": "cell-7f28f00061f7b5a5",
     "locked": true,
     "points": 3,
     "schema_version": 1,
     "solution": false
    }
   },
   "outputs": [
    {
     "name": "stdout",
     "output_type": "stream",
     "text": [
      "curr_pred: 0   [-1  1  1]\n",
      "curr_error: 0   0.0\n",
      "curr_alph: 0   inf\n",
      "d: 0   [nan nan nan]\n"
     ]
    },
    {
     "name": "stderr",
     "output_type": "stream",
     "text": [
      "/Library/Frameworks/Python.framework/Versions/3.7/lib/python3.7/site-packages/ipykernel_launcher.py:25: RuntimeWarning: divide by zero encountered in double_scalars\n",
      "/Library/Frameworks/Python.framework/Versions/3.7/lib/python3.7/site-packages/ipykernel_launcher.py:29: RuntimeWarning: invalid value encountered in multiply\n"
     ]
    }
   ],
   "source": [
    "x = np.array([[0, -1], [1, 0], [-1, 0]])\n",
    "y = np.array([-1, 1, 1])\n",
    "trees, weights = adaboost(x, y, 1)\n",
    "pred = adaboost_predict(x, trees, weights)\n",
    "assert(np.array_equal(pred, y))"
   ]
  },
  {
   "cell_type": "code",
   "execution_count": 24,
   "metadata": {
    "ExecuteTime": {
     "end_time": "2019-02-10T22:36:27.645850Z",
     "start_time": "2019-02-10T22:36:27.287270Z"
    },
    "deletable": false,
    "editable": false,
    "nbgrader": {
     "checksum": "6f5022208d3fd8fb43a8847635cdb82f",
     "grade": true,
     "grade_id": "cell-89126a5a7f8f0e1b",
     "locked": true,
     "points": 3,
     "schema_version": 1,
     "solution": false
    }
   },
   "outputs": [
    {
     "name": "stdout",
     "output_type": "stream",
     "text": [
      "curr_pred: 0   [-1 -1  1 ... -1 -1 -1]\n",
      "curr_error: 0   0.20944444444444446\n",
      "curr_alph: 0   1.3282774106418416\n",
      "d: 0   [0.00104848 0.00027778 0.00027778 ... 0.00027778 0.00027778 0.00027778]\n",
      "curr_pred: 1   [-1 -1  1 ... -1  1  1]\n",
      "curr_error: 1   0.24175584514353993\n",
      "curr_alph: 1   1.1430771253057108\n",
      "d: 1   [0.00328846 0.00027778 0.00027778 ... 0.00027778 0.00087122 0.00087122]\n",
      "curr_pred: 2   [ 1 -1  1 ...  1 -1  1]\n",
      "curr_error: 2   0.28280143319837275\n",
      "curr_alph: 2   0.930607741508098\n",
      "d: 2   [0.00328846 0.00027778 0.00027778 ... 0.00070446 0.00087122 0.00220947]\n",
      "curr_pred: 3   [ 1 -1 -1 ... -1 -1 -1]\n",
      "curr_error: 3   0.2872535405009939\n",
      "curr_alph: 3   0.9087605182423808\n",
      "d: 3   [0.00328846 0.00027778 0.00068923 ... 0.00070446 0.00087122 0.00220947]\n",
      "curr_pred: 4   [ 1 -1  1 ... -1  1  1]\n",
      "curr_error: 4   0.3426765342334257\n",
      "curr_alph: 4   0.6513892815370603\n",
      "d: 4   [0.00328846 0.00027778 0.00068923 ... 0.00070446 0.00167118 0.00423821]\n",
      "curr_pred: 5   [ 1  1  1 ...  1  1 -1]\n",
      "curr_error: 5   0.32592944136528595\n",
      "curr_alph: 5   0.7266538714237933\n",
      "d: 5   [0.00328846 0.00057449 0.00068923 ... 0.00145692 0.00345626 0.00423821]\n",
      "curr_pred: 6   [-1 -1  1 ... -1 -1 -1]\n",
      "curr_error: 6   0.3412760280657407\n",
      "curr_alph: 6   0.6576129714690654\n",
      "d: 6   [0.00634733 0.00057449 0.00068923 ... 0.00145692 0.00345626 0.00423821]\n",
      "curr_pred: 7   [ 1  1  1 ... -1 -1  1]\n",
      "curr_error: 7   0.4021325644756105\n",
      "curr_alph: 7   0.39658725301444925\n",
      "d: 7   [0.00634733 0.00085411 0.00068923 ... 0.00145692 0.00345626 0.00630112]\n",
      "curr_pred: 8   [ 1 -1  1 ... -1  1 -1]\n",
      "curr_error: 8   0.36700941789019365\n",
      "curr_alph: 8   0.5450680342984825\n",
      "d: 8   [0.00634733 0.00085411 0.00068923 ... 0.00145692 0.0059611  0.00630112]\n",
      "curr_pred: 9   [ 1 -1  1 ... -1  1  1]\n",
      "curr_error: 9   0.4107971292916691\n",
      "curr_alph: 9   0.36067106685268585\n",
      "d: 9   [0.00634733 0.00085411 0.00068923 ... 0.00145692 0.00854995 0.00903764]\n",
      "Train Accuracy 0.9111\n",
      "Test Accuracy 0.9190\n"
     ]
    }
   ],
   "source": [
    "X, Y = parse_spambase_data(\"spambase.train\")\n",
    "X_test, Y_test = parse_spambase_data(\"spambase.test\")\n",
    "trees, trees_weights = adaboost(X, Y, 10)\n",
    "Yhat = adaboost_predict(X, trees, trees_weights)\n",
    "Yhat_test = adaboost_predict(X_test, trees, trees_weights)\n",
    "    \n",
    "acc_test = accuracy(Y_test, Yhat_test)\n",
    "acc_train = accuracy(Y, Yhat)\n",
    "print(\"Train Accuracy %.4f\" % acc_train)\n",
    "print(\"Test Accuracy %.4f\" % acc_test)\n",
    "assert(np.around(acc_train, decimals=4)==0.9111)\n",
    "assert(np.around(acc_test, decimals=4)==0.9190)"
   ]
  },
  {
   "cell_type": "markdown",
   "metadata": {},
   "source": [
    "# Gradient boosting for regression with MSE loss\n",
    "For this exercise you will implement a version of gradient boosting from scratch and applied it to predict rental prices. You can call DecisionTreeRegressor from sklearn to learn your base classifiers.\n",
    " \n",
    "`tree = DecisionTreeRegressor(max_depth=max_depth, random_state=0)`"
   ]
  },
  {
   "cell_type": "code",
   "execution_count": 5,
   "metadata": {
    "ExecuteTime": {
     "end_time": "2019-02-13T00:42:22.311517Z",
     "start_time": "2019-02-13T00:42:22.306246Z"
    },
    "collapsed": true
   },
   "outputs": [],
   "source": [
    "def load_dataset():\n",
    "    dataset = np.loadtxt(\"rent-ideal.csv\", delimiter=\",\", skiprows=1)\n",
    "    y = dataset[:, -1]\n",
    "    X = dataset[:, 0:- 1]\n",
    "    return X, y"
   ]
  },
  {
   "cell_type": "code",
   "execution_count": 6,
   "metadata": {
    "ExecuteTime": {
     "end_time": "2019-02-13T00:42:22.815040Z",
     "start_time": "2019-02-13T00:42:22.806182Z"
    },
    "collapsed": true,
    "deletable": false,
    "nbgrader": {
     "checksum": "e942b309ddbabaf54f2e2fe42050c6ca",
     "grade": false,
     "grade_id": "cell-158a37c458437dee",
     "locked": false,
     "schema_version": 1,
     "solution": true
    }
   },
   "outputs": [],
   "source": [
    "from sklearn.tree import DecisionTreeRegressor\n",
    "from sklearn.metrics import r2_score\n",
    "from sklearn.model_selection import train_test_split\n",
    "\n",
    "\n",
    "def gradient_boosting_mse(X, y, num_iter, max_depth=1, nu=0.1):\n",
    "    \"\"\"Given X, a array y and num_iter return y_mean and trees \n",
    "   \n",
    "    Input: X, y, num_iter\n",
    "           max_depth\n",
    "           nu (is the shinkage)\n",
    "    Outputs:y_mean, array of trees from DecisionTreeRegression\n",
    "    \"\"\"\n",
    "    \n",
    "    trees = []\n",
    "    N, _ = X.shape\n",
    "    y_mean = np.mean(y)\n",
    "    \n",
    "    f_m = np.resize(y_mean,(N))\n",
    "\n",
    "    for tree_num in range(num_iter):\n",
    "        #current residuals\n",
    "        tree = DecisionTreeRegressor(max_depth=max_depth, random_state=0)\n",
    "       \n",
    "        current_residuals = y - f_m\n",
    "\n",
    "        tree.fit(X,current_residuals)\n",
    "        \n",
    "        f_m = f_m + nu * tree.predict(X)\n",
    "        \n",
    "        trees.append(tree)\n",
    "    return y_mean, trees   "
   ]
  },
  {
   "cell_type": "code",
   "execution_count": 9,
   "metadata": {
    "ExecuteTime": {
     "end_time": "2019-02-13T00:42:34.658760Z",
     "start_time": "2019-02-13T00:42:34.351526Z"
    },
    "collapsed": true,
    "deletable": false,
    "nbgrader": {
     "checksum": "23ef8af5df601472856fba1db00cbc5e",
     "grade": false,
     "grade_id": "cell-8ff3f16fc953ead4",
     "locked": false,
     "schema_version": 1,
     "solution": true
    }
   },
   "outputs": [],
   "source": [
    "def gradient_boosting_predict(X, trees, y_mean,  nu=0.1):\n",
    "    \"\"\"Given X, trees, y_mean predict y_hat\n",
    "    \"\"\"\n",
    "    \n",
    "    N, _ =  X.shape\n",
    "    curr_pred = np.resize(y_mean,(N))\n",
    "\n",
    "    for tree_index in range(len(trees)):\n",
    "        curr_pred = curr_pred + nu * trees[tree_index].predict(X)\n",
    "    return curr_pred\n",
    "X, y = load_dataset()\n",
    "X_train, X_val, y_train, y_val = train_test_split(X, y, test_size=0.33, random_state=3)\n"
   ]
  },
  {
   "cell_type": "code",
   "execution_count": 10,
   "metadata": {
    "ExecuteTime": {
     "end_time": "2019-02-13T00:42:48.732302Z",
     "start_time": "2019-02-13T00:42:37.403874Z"
    },
    "collapsed": true,
    "deletable": false,
    "editable": false,
    "nbgrader": {
     "checksum": "3229a54289b94079c8fcd31ef77ec778",
     "grade": true,
     "grade_id": "cell-f6f368de93b63c1c",
     "locked": true,
     "points": 2,
     "schema_version": 1,
     "solution": false
    }
   },
   "outputs": [],
   "source": [
    "X, y = load_dataset()\n",
    "X_train, X_val, y_train, y_val = train_test_split(X, y, test_size=0.33, random_state=3)\n",
    "\n",
    "y_mean, trees = gradient_boosting_mse(X_train, y_train, 300, max_depth=7, nu=0.1)\n",
    "assert(np.around(y_mean, decimals=4)==3434.7185)\n",
    "y_hat_train = gradient_boosting_predict(X_train, trees, y_mean, nu=0.1)\n",
    "assert(np.around(r2_score(y_train, y_hat_train), decimals=4)== 0.8993) "
   ]
  },
  {
   "cell_type": "code",
   "execution_count": 11,
   "metadata": {
    "ExecuteTime": {
     "end_time": "2019-02-13T00:42:49.105919Z",
     "start_time": "2019-02-13T00:42:48.735269Z"
    },
    "collapsed": true,
    "deletable": false,
    "editable": false,
    "nbgrader": {
     "checksum": "435b2e4bc8f97d1d53d486b2c8cc55c2",
     "grade": true,
     "grade_id": "cell-62746a63ebdd7798",
     "locked": true,
     "points": 3,
     "schema_version": 1,
     "solution": false
    }
   },
   "outputs": [],
   "source": [
    "y_hat = gradient_boosting_predict(X_val, trees, y_mean, nu=0.1)\n",
    "assert(np.around(r2_score(y_val, y_hat), decimals=4)== 0.8399)"
   ]
  },
  {
   "cell_type": "code",
   "execution_count": 12,
   "metadata": {
    "ExecuteTime": {
     "end_time": "2019-02-13T00:42:49.418368Z",
     "start_time": "2019-02-13T00:42:49.113482Z"
    },
    "collapsed": true
   },
   "outputs": [],
   "source": [
    "import seaborn as sns; sns.set()\n",
    "import matplotlib.pyplot as plt\n",
    "X, y = load_dataset()\n",
    "X_train, X_val, y_train, y_val = train_test_split(X, y, test_size=0.33, random_state=3)\n",
    "\n"
   ]
  },
  {
   "cell_type": "code",
   "execution_count": 13,
   "metadata": {
    "ExecuteTime": {
     "end_time": "2019-02-13T01:05:35.110392Z",
     "start_time": "2019-02-13T00:42:49.421178Z"
    }
   },
   "outputs": [
    {
     "name": "stdout",
     "output_type": "stream",
     "text": [
      "100\n",
      "200\n",
      "300\n",
      "400\n",
      "500\n",
      "600\n",
      "700\n",
      "800\n",
      "900\n",
      "1000\n",
      "1100\n",
      "1200\n",
      "1300\n",
      "1400\n",
      "1500\n",
      "1600\n",
      "1700\n",
      "1800\n",
      "1900\n",
      "2000\n",
      "2100\n",
      "2200\n",
      "2300\n",
      "2400\n",
      "2500\n",
      "2600\n",
      "2700\n",
      "2800\n",
      "2900\n"
     ]
    }
   ],
   "source": [
    "val_error = []\n",
    "train_error = []\n",
    "x = range(100,3000,100)\n",
    "for number_trees in range(100,3000,100):\n",
    "    print(number_trees)\n",
    "    y_mean, trees = gradient_boosting_mse(X_train, y_train, number_trees, max_depth=7, nu=0.1)\n",
    "    y_hat = gradient_boosting_predict(X_train, trees, y_mean, nu=0.1)\n",
    "    train_error.append(r2_score(y_train, y_hat))    \n",
    "    y_hat = gradient_boosting_predict(X_val, trees, y_mean, nu=0.1)\n",
    "    val_error.append(r2_score(y_val, y_hat))\n",
    "\n",
    "    "
   ]
  },
  {
   "cell_type": "markdown",
   "metadata": {},
   "source": [
    "The best number of trees."
   ]
  },
  {
   "cell_type": "code",
   "execution_count": 18,
   "metadata": {
    "ExecuteTime": {
     "end_time": "2019-02-13T01:12:18.906817Z",
     "start_time": "2019-02-13T01:12:18.902483Z"
    }
   },
   "outputs": [
    {
     "name": "stdout",
     "output_type": "stream",
     "text": [
      "1900\n"
     ]
    }
   ],
   "source": [
    "print(100*np.argmax(val_error))"
   ]
  },
  {
   "cell_type": "code",
   "execution_count": 32,
   "metadata": {
    "ExecuteTime": {
     "end_time": "2019-02-10T23:15:12.019693Z",
     "start_time": "2019-02-10T23:15:11.686587Z"
    },
    "scrolled": true
   },
   "outputs": [
    {
     "data": {
      "image/png": "[encoded data removed]",
      "text/plain": [
       "<Figure size 432x288 with 1 Axes>"
      ]
     },
     "metadata": {
      "needs_background": "light"
     },
     "output_type": "display_data"
    }
   ],
   "source": [
    "ax = sns.scatterplot(x=x, y=train_error)\n",
    "ax = sns.scatterplot(x=x, y=val_error)"
   ]
  },
  {
   "cell_type": "code",
   "execution_count": null,
   "metadata": {
    "collapsed": true
   },
   "outputs": [],
   "source": [
    "import xgboost\n",
    "xgb_pars = {'min_child_weight': 50, \n",
    "            'eta': 0.1, \n",
    "            'colsample_bytree': 1, \n",
    "            'max_depth': 7,\n",
    "            'subsample': 0.8, \n",
    "            'lambda': .1, \n",
    "            'nthread': -1, \n",
    "            'booster' : 'gblinear', \n",
    "            'verbosity': 0,\n",
    "            'eval_metric': 'rmse', \n",
    "            'objective': 'reg:linear'}"
   ]
  },
  {
   "cell_type": "code",
   "execution_count": 37,
   "metadata": {
    "ExecuteTime": {
     "end_time": "2019-02-11T00:16:43.352065Z",
     "start_time": "2019-02-11T00:07:49.927303Z"
    },
    "collapsed": true
   },
   "outputs": [],
   "source": [
    "xgb_val_error = []\n",
    "xgb_train_error = []\n",
    "dtrain = xgboost.DMatrix(X_train, label=y_train)\n",
    "dvalid = xgboost.DMatrix(X_val, label=y_val)\n",
    "\n",
    "watchlist = [(dtrain, 'train'), (dvalid, 'valid')]\n",
    "\n",
    "x = range(100,3000,100)\n",
    "for number_trees in range(100,3000,100):\n",
    "    gbm = xgboost.train(xgb_pars, dtrain, number_trees, watchlist,\n",
    "                    maximize=False, verbose_eval=0)\n",
    "    y_hat = gbm.predict(dtrain)\n",
    "    xgb_train_error.append(r2_score(y_train, y_hat))    \n",
    "    y_hat = gbm.predict(dvalid)\n",
    "    xgb_val_error.append(r2_score(y_val, y_hat))\n"
   ]
  },
  {
   "cell_type": "code",
   "execution_count": 40,
   "metadata": {
    "ExecuteTime": {
     "end_time": "2019-02-11T00:58:01.222379Z",
     "start_time": "2019-02-11T00:58:00.855075Z"
    }
   },
   "outputs": [
    {
     "data": {
      "image/png": "[encoded data removed]",
      "text/plain": [
       "<Figure size 432x288 with 1 Axes>"
      ]
     },
     "metadata": {
      "needs_background": "light"
     },
     "output_type": "display_data"
    }
   ],
   "source": [
    "ax = sns.scatterplot(x=x, y=xgb_train_error, label=\"XGBoost Training\")\n",
    "ax = sns.scatterplot(x=x, y=xgb_val_error, label=\"XGBoost Validation\")\n",
    "ax = sns.scatterplot(x=x, y=train_error, label=\"Gradient Boosting Training\")\n",
    "ax = sns.scatterplot(x=x, y=val_error, label=\"Gradient Boosting Validation\")"
   ]
  },
  {
   "cell_type": "code",
   "execution_count": null,
   "metadata": {
    "collapsed": true
   },
   "outputs": [],
   "source": []
  }
 ],
 "metadata": {
  "kernelspec": {
   "display_name": "Python 3",
   "language": "python",
   "name": "python3"
  },
  "language_info": {
   "codemirror_mode": {
    "name": "ipython",
    "version": 3
   },
   "file_extension": ".py",
   "mimetype": "text/x-python",
   "name": "python",
   "nbconvert_exporter": "python",
   "pygments_lexer": "ipython3",
   "version": "3.6.8"
  },
  "toc": {
   "nav_menu": {},
   "number_sections": true,
   "sideBar": true,
   "skip_h1_title": false,
   "toc_cell": false,
   "toc_position": {},
   "toc_section_display": "block",
   "toc_window_display": false
  }
 },
 "nbformat": 4,
 "nbformat_minor": 2
}
