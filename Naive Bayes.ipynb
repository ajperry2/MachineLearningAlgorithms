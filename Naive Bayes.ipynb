{
 "cells": [
  {
   "cell_type": "markdown",
   "metadata": {},
   "source": [
    "### Naive Bayes\n",
    "\n",
    "A classifier which is based off of the Bayes' theorem, it assumes pairwise conditional independence among the factors\n",
    "It is most useful when all of the data is catagorical. It is a supervised algorithm and is very fast and quite good for how simple it is.\n",
    "\n"
   ]
  },
  {
   "cell_type": "code",
   "execution_count": 116,
   "metadata": {
    "ExecuteTime": {
     "end_time": "2019-05-24T09:10:45.985697Z",
     "start_time": "2019-05-24T09:10:45.981418Z"
    }
   },
   "outputs": [],
   "source": [
    "def bayes_predict(input,X,y):\n",
    "    classes = np.unique(y)\n",
    "    class_probs = []\n",
    "    \n",
    "    for class_ in classes:\n",
    "        #initialize to total class \n",
    "        class_prob = np.sum(y==class_) / len(y)\n",
    "        for t in range(input.shape[0]):\n",
    "            # intersection of class and x devided probability of class to get conditional prob\n",
    "            mask = np.logical_and(y==class_ ,X[:,t]==input[t])\n",
    "            curr_cond = np.sum(y[mask] == class_)/np.sum(y==class_)\n",
    "            class_prob *= curr_cond\n",
    "        class_probs.append(class_prob)\n",
    "\n",
    "    return classes[np.argmax(np.array(class_probs))]"
   ]
  },
  {
   "cell_type": "code",
   "execution_count": 117,
   "metadata": {
    "ExecuteTime": {
     "end_time": "2019-05-24T09:10:46.270799Z",
     "start_time": "2019-05-24T09:10:46.268159Z"
    }
   },
   "outputs": [],
   "source": [
    "import numpy as np"
   ]
  },
  {
   "cell_type": "code",
   "execution_count": 118,
   "metadata": {
    "ExecuteTime": {
     "end_time": "2019-05-24T09:10:46.483460Z",
     "start_time": "2019-05-24T09:10:46.480631Z"
    }
   },
   "outputs": [],
   "source": [
    "input = np.random.randint(0,high=2,size=(4,3))"
   ]
  },
  {
   "cell_type": "code",
   "execution_count": 119,
   "metadata": {
    "ExecuteTime": {
     "end_time": "2019-05-24T09:10:46.678871Z",
     "start_time": "2019-05-24T09:10:46.676039Z"
    }
   },
   "outputs": [],
   "source": [
    "y = np.random.randint(0,high=2,size=4)"
   ]
  },
  {
   "cell_type": "code",
   "execution_count": 120,
   "metadata": {
    "ExecuteTime": {
     "end_time": "2019-05-24T09:10:46.968596Z",
     "start_time": "2019-05-24T09:10:46.964532Z"
    }
   },
   "outputs": [
    {
     "data": {
      "text/plain": [
       "array([0, 1, 0, 0])"
      ]
     },
     "execution_count": 120,
     "metadata": {},
     "output_type": "execute_result"
    }
   ],
   "source": [
    "y"
   ]
  },
  {
   "cell_type": "code",
   "execution_count": 121,
   "metadata": {
    "ExecuteTime": {
     "end_time": "2019-05-24T09:10:47.741387Z",
     "start_time": "2019-05-24T09:10:47.736327Z"
    }
   },
   "outputs": [
    {
     "data": {
      "text/plain": [
       "[0, 1, 0, 0]"
      ]
     },
     "execution_count": 121,
     "metadata": {},
     "output_type": "execute_result"
    }
   ],
   "source": [
    "[bayes_predict(i,input,y ) for i in input ]"
   ]
  },
  {
   "cell_type": "code",
   "execution_count": null,
   "metadata": {},
   "outputs": [],
   "source": []
  },
  {
   "cell_type": "code",
   "execution_count": null,
   "metadata": {},
   "outputs": [],
   "source": []
  }
 ],
 "metadata": {
  "kernelspec": {
   "display_name": "Python 3",
   "language": "python",
   "name": "python3"
  },
  "language_info": {
   "codemirror_mode": {
    "name": "ipython",
    "version": 3
   },
   "file_extension": ".py",
   "mimetype": "text/x-python",
   "name": "python",
   "nbconvert_exporter": "python",
   "pygments_lexer": "ipython3",
   "version": "3.6.8"
  }
 },
 "nbformat": 4,
 "nbformat_minor": 2
}
