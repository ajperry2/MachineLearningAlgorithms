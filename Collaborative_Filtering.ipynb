{
 "cells": [
  {
   "cell_type": "markdown",
   "metadata": {},
   "source": [
    "## Collaborative Filtering"
   ]
  },
  {
   "cell_type": "markdown",
   "metadata": {},
   "source": [
    "This model answers the question 'what would other people like me like?\". Once you have enough data about a user, this algorithm works very well."
   ]
  },
  {
   "cell_type": "markdown",
   "metadata": {},
   "source": [
    "Where $u_{i}$ is a user and $v_{j}$ is an item to recommend\n",
    "Our predictions have this form...\n",
    "$$\\hat{y}_{ij} = u_{0i} + v_{0j} + u_i \\cdot v_j  $$ \n"
   ]
  },
  {
   "cell_type": "markdown",
   "metadata": {},
   "source": [
    "We train with gradient descent, where these are our gradients."
   ]
  },
  {
   "cell_type": "markdown",
   "metadata": {},
   "source": [
    "\\begin{aligned}\n",
    "\\nabla{L}=&\\left( \\begin{array}{c}\n",
    "\\frac{\\delta L}{\\delta u_{il}}\\\\\n",
    "\\frac{\\delta L}{\\delta v_{jl}}\\\\\n",
    "\\frac{\\delta L}{\\delta u_{0i}}\\\\\n",
    "\\frac{\\delta L}{\\delta v_{0i}}\\end{array} \\right)=&\\left( \\begin{array}{c}\n",
    "- \\frac{2}{N}\\sum_{j:r_{ij}=1}(y_{ij}-u^0_i-v^0_j-u_i\\cdot v_j)v_{jl} \\\\\n",
    "- \\frac{2}{N}\\sum_{i:r_{ij}=1}(y_{ij}-u^0_i-v^0_j-u_i\\cdot v_j)u_{il}\\\\\n",
    "- \\frac{2}{N}\\sum_{j:r_{ij}=1}(y_{ij}-u^0_i-v^0_j-u_i\\cdot v_j)\\\\\n",
    "- \\frac{2}{N}\\sum_{i:r_{ij}=1}(y_{ij}-u^0_i-v^0_j-u_i\\cdot v_j)\\\\\\end{array} \\right)\n",
    "\\end{aligned}\n"
   ]
  },
  {
   "cell_type": "code",
   "execution_count": 5,
   "metadata": {
    "ExecuteTime": {
     "end_time": "2019-05-25T03:01:53.449738Z",
     "start_time": "2019-05-25T03:01:53.447200Z"
    }
   },
   "outputs": [],
   "source": [
    "import numpy as np\n",
    "import pandas as pd"
   ]
  },
  {
   "cell_type": "code",
   "execution_count": 6,
   "metadata": {
    "ExecuteTime": {
     "end_time": "2019-05-25T03:01:53.793132Z",
     "start_time": "2019-05-25T03:01:53.771964Z"
    }
   },
   "outputs": [],
   "source": [
    "# here is a handy function from fast.ai\n",
    "def proc_col(col):\n",
    "    \"\"\"Encodes a pandas column with continous ids. \n",
    "    \"\"\"\n",
    "    uniq = col.unique()\n",
    "    name2idx = {o:i for i,o in enumerate(uniq)}\n",
    "    return name2idx, np.array([name2idx[x] for x in col]), len(uniq)\n",
    "def encode_data(df):\n",
    "    \"\"\"Encodes rating data with continous user and movie ids using \n",
    "    the helpful fast.ai function from above.\n",
    "    \n",
    "    Arguments:\n",
    "      train_csv: a csv file with columns user_id,movie_id,rating \n",
    "    \n",
    "    Returns:\n",
    "      df: a dataframe with the encode data\n",
    "      num_users\n",
    "      num_movies\n",
    "      \n",
    "    \"\"\"\n",
    "    # YOUR CODE HERE\n",
    "    _,df['userId'],num_users = proc_col(df['userId'])\n",
    "    _,df['movieId'],num_movies = proc_col(df['movieId'])\n",
    "\n",
    "    return df, num_users, num_movies\n",
    "df = pd.read_csv(\"tiny_training2.csv\")\n",
    "df, num_users, num_movies = encode_data(df)"
   ]
  },
  {
   "cell_type": "markdown",
   "metadata": {},
   "source": [
    "### Initializing our parameters"
   ]
  },
  {
   "cell_type": "code",
   "execution_count": 7,
   "metadata": {
    "ExecuteTime": {
     "end_time": "2019-05-25T03:01:54.471556Z",
     "start_time": "2019-05-25T03:01:54.465993Z"
    }
   },
   "outputs": [
    {
     "data": {
      "text/plain": [
       "array([[ 7.24366501,  4.69774059, 10.13887178]])"
      ]
     },
     "execution_count": 7,
     "metadata": {},
     "output_type": "execute_result"
    }
   ],
   "source": [
    "def create_embedings(n, K):\n",
    "    \"\"\" Create a numpy random matrix of shape n, K\n",
    "    \n",
    "    The random matrix should be initialized with uniform values in (0, 6/K)\n",
    "    Arguments:\n",
    "    \n",
    "    Inputs:\n",
    "    n: number of items/users\n",
    "    K: number of factors in the embeding \n",
    "    \n",
    "    Returns:\n",
    "    emb: numpy array of shape (n, num_factors)\n",
    "    \"\"\"\n",
    "    np.random.seed(3)\n",
    "    emb = 6*np.random.random((n, K)) / K\n",
    "    return emb\n",
    "\n",
    "# here is an example on how the prediction matrix would look like with 7 users and 5 movies\n",
    "np.dot(create_embedings(1,2), create_embedings(3,2).transpose())"
   ]
  },
  {
   "cell_type": "markdown",
   "metadata": {},
   "source": [
    "### Read in data"
   ]
  },
  {
   "cell_type": "code",
   "execution_count": 9,
   "metadata": {
    "ExecuteTime": {
     "end_time": "2019-05-25T03:02:29.421580Z",
     "start_time": "2019-05-25T03:02:29.416705Z"
    }
   },
   "outputs": [],
   "source": [
    "#Code to encode matrix in sparse \n",
    "from scipy import sparse\n",
    "def df2matrix(df, nrows, ncols, column_name=\"rating\"):\n",
    "    \"\"\" Returns a sparse matrix constructed from a dataframe\n",
    "    \n",
    "    This code assumes the df has columns: MovieID,UserID,Rating\n",
    "    \"\"\"\n",
    "    values = df[column_name].values\n",
    "    ind_movie = df['movieId'].values\n",
    "    ind_user = df['userId'].values\n",
    "    return sparse.csc_matrix((values,(ind_user, ind_movie)),shape=(nrows, ncols))"
   ]
  },
  {
   "cell_type": "code",
   "execution_count": 10,
   "metadata": {
    "ExecuteTime": {
     "end_time": "2019-05-25T03:02:30.181822Z",
     "start_time": "2019-05-25T03:02:30.166480Z"
    }
   },
   "outputs": [],
   "source": [
    "df = pd.read_csv(\"tiny_training2.csv\")\n",
    "df, num_users, num_movies = encode_data(df)\n",
    "Y = df2matrix(df, num_users, num_movies)"
   ]
  },
  {
   "cell_type": "code",
   "execution_count": 11,
   "metadata": {
    "ExecuteTime": {
     "end_time": "2019-05-25T03:02:41.348715Z",
     "start_time": "2019-05-25T03:02:41.328761Z"
    }
   },
   "outputs": [
    {
     "data": {
      "text/html": [
       "<div>\n",
       "<style scoped>\n",
       "    .dataframe tbody tr th:only-of-type {\n",
       "        vertical-align: middle;\n",
       "    }\n",
       "\n",
       "    .dataframe tbody tr th {\n",
       "        vertical-align: top;\n",
       "    }\n",
       "\n",
       "    .dataframe thead th {\n",
       "        text-align: right;\n",
       "    }\n",
       "</style>\n",
       "<table border=\"1\" class=\"dataframe\">\n",
       "  <thead>\n",
       "    <tr style=\"text-align: right;\">\n",
       "      <th></th>\n",
       "      <th>userId</th>\n",
       "      <th>movieId</th>\n",
       "      <th>rating</th>\n",
       "    </tr>\n",
       "  </thead>\n",
       "  <tbody>\n",
       "    <tr>\n",
       "      <th>0</th>\n",
       "      <td>0</td>\n",
       "      <td>0</td>\n",
       "      <td>4</td>\n",
       "    </tr>\n",
       "    <tr>\n",
       "      <th>1</th>\n",
       "      <td>0</td>\n",
       "      <td>1</td>\n",
       "      <td>5</td>\n",
       "    </tr>\n",
       "    <tr>\n",
       "      <th>2</th>\n",
       "      <td>1</td>\n",
       "      <td>1</td>\n",
       "      <td>5</td>\n",
       "    </tr>\n",
       "    <tr>\n",
       "      <th>3</th>\n",
       "      <td>1</td>\n",
       "      <td>2</td>\n",
       "      <td>3</td>\n",
       "    </tr>\n",
       "    <tr>\n",
       "      <th>4</th>\n",
       "      <td>2</td>\n",
       "      <td>0</td>\n",
       "      <td>4</td>\n",
       "    </tr>\n",
       "  </tbody>\n",
       "</table>\n",
       "</div>"
      ],
      "text/plain": [
       "   userId  movieId  rating\n",
       "0       0        0       4\n",
       "1       0        1       5\n",
       "2       1        1       5\n",
       "3       1        2       3\n",
       "4       2        0       4"
      ]
     },
     "execution_count": 11,
     "metadata": {},
     "output_type": "execute_result"
    }
   ],
   "source": [
    "df.head()"
   ]
  },
  {
   "cell_type": "code",
   "execution_count": 12,
   "metadata": {
    "ExecuteTime": {
     "end_time": "2019-05-25T03:12:13.743411Z",
     "start_time": "2019-05-25T03:12:13.739945Z"
    }
   },
   "outputs": [],
   "source": [
    "def predict(df, emb_user, emb_movie):\n",
    "    \"\"\" This function computes df[\"prediction\"] without doing (U*V^T).\n",
    "    \n",
    "    Compute df[\"prediction\"] by using elementwise multiplication of the corresponding embeddings and then \n",
    "    sum to get the prediction u_i*v_j. This avoids creating the dense matrix U*V^T.\n",
    "    \"\"\"    \n",
    "    users = df['userId']\n",
    "    movies = df['movieId']\n",
    "    df['prediction'] = (emb_user[users] * emb_movie[movies]).sum(axis=1)\n",
    "    return df"
   ]
  },
  {
   "cell_type": "markdown",
   "metadata": {},
   "source": [
    "## Mean Squared Error Loss"
   ]
  },
  {
   "cell_type": "code",
   "execution_count": 13,
   "metadata": {
    "ExecuteTime": {
     "end_time": "2019-05-25T03:12:54.945334Z",
     "start_time": "2019-05-25T03:12:54.941339Z"
    }
   },
   "outputs": [],
   "source": [
    "def cost(df, emb_user, emb_movie):\n",
    "    \"\"\" Computes mean square error\n",
    "    \n",
    "    First compute prediction using the predict function.\n",
    "    Prediction for user i and movie j is emb_user[i]*emb_movie[j]\n",
    "    \n",
    "    Arguments:\n",
    "      df: dataframe with all data or a subset of the data\n",
    "      emb_user: embedings for users\n",
    "      emb_movie: embedings for movies\n",
    "      \n",
    "    Returns:\n",
    "      error(float): this is the MSE\n",
    "    \"\"\"\n",
    "    # YOUR CODE HERE\n",
    "    prediction = predict(df, emb_user, emb_movie)['prediction']\n",
    "    actual = df['rating']\n",
    "    error = np.mean(np.power(actual-prediction,2))\n",
    "    return error"
   ]
  },
  {
   "cell_type": "markdown",
   "metadata": {},
   "source": [
    "## Find Gradient"
   ]
  },
  {
   "cell_type": "code",
   "execution_count": 14,
   "metadata": {
    "ExecuteTime": {
     "end_time": "2019-05-25T03:13:16.249847Z",
     "start_time": "2019-05-25T03:13:16.244458Z"
    }
   },
   "outputs": [],
   "source": [
    "def finite_difference(df, emb_user, emb_movie, ind_u=None, ind_m=None, k=None):\n",
    "    \"\"\" Computes finite difference on MSE(U, V).\n",
    "    \n",
    "    This function is used for testing the gradient function. \n",
    "    \"\"\"\n",
    "    e = 0.000000001\n",
    "    c1 = cost(df, emb_user, emb_movie)\n",
    "    K = emb_user.shape[1]\n",
    "    x = np.zeros_like(emb_user)\n",
    "    y = np.zeros_like(emb_movie)\n",
    "    if ind_u is not None:\n",
    "        x[ind_u][k] = e\n",
    "    else:\n",
    "        y[ind_m][k] = e\n",
    "    c2 = cost(df, emb_user + x, emb_movie + y)\n",
    "    return (c2 - c1)/e"
   ]
  },
  {
   "cell_type": "code",
   "execution_count": 16,
   "metadata": {
    "ExecuteTime": {
     "end_time": "2019-05-25T03:13:42.346872Z",
     "start_time": "2019-05-25T03:13:42.340925Z"
    }
   },
   "outputs": [],
   "source": [
    "def gradient(df, emb_user, emb_movie):\n",
    "    \"\"\" \n",
    "    Computes the gradient.\n",
    "\n",
    "    Arguments:\n",
    "      df: dataframe with all data or a subset of the data\n",
    "      Y: sparse representation of df\n",
    "      emb_user: embedings for users\n",
    "      emb_movie: embedings for movies\n",
    "      \n",
    "    Returns:\n",
    "      d_emb_user\n",
    "      d_emb_movie\n",
    "    \"\"\"\n",
    "    users = df['userId']\n",
    "    movies = df['movieId']\n",
    "    df['prediction'] = predict(df, emb_user, emb_movie)['prediction']\n",
    "    Y = df2matrix(df, emb_user.shape[0], emb_movie.shape[0])\n",
    "    Y_hat = df2matrix(df, emb_user.shape[0], emb_movie.shape[0], column_name=\"prediction\")\n",
    "    N = df.shape[0]\n",
    "    nambla = (Y.todense()-Y_hat)\n",
    "    d_emb_user = (-2/N) * np.dot(nambla,emb_movie)\n",
    "    d_emb_movie = (-2/N) * np.dot(nambla.T,emb_user)\n",
    "\n",
    "    return d_emb_user, d_emb_movie"
   ]
  },
  {
   "cell_type": "markdown",
   "metadata": {},
   "source": [
    "## Using gradient descent with momentum"
   ]
  },
  {
   "cell_type": "code",
   "execution_count": 17,
   "metadata": {
    "ExecuteTime": {
     "end_time": "2019-05-25T03:14:12.173561Z",
     "start_time": "2019-05-25T03:14:12.168057Z"
    }
   },
   "outputs": [],
   "source": [
    "def gradient_descent(df, emb_user, emb_movie, iterations=100, learning_rate=0.01, df_val=None):\n",
    "    \"\"\" Computes gradient descent with momentum (0.9) for a number of iterations.\n",
    "    \n",
    "    Prints training cost and validation cost (if df_val is not None) every 50 iterations.\n",
    "    \n",
    "    Returns:\n",
    "    emb_user: the trained user embedding\n",
    "    emb_movie: the trained movie embedding\n",
    "    \"\"\"\n",
    "    momentum = 0.9\n",
    "    update_user, update_movie = gradient(df, emb_user, emb_movie)\n",
    "    \n",
    "    for iteration in range(iterations):\n",
    "        #calculate gradients\n",
    "        #updates\n",
    "        if iteration > 0:\n",
    "            du, dm = gradient(df, emb_user, emb_movie)\n",
    "            update_user =  update_user * (momentum) + du * (1 - momentum)\n",
    "            update_movie = update_movie * (momentum) + dm * (1 - momentum)\n",
    "        \n",
    "        #parameter changes\n",
    "        emb_user -= learning_rate * update_user\n",
    "        emb_movie -= learning_rate *update_movie\n",
    "        if iteration%50 == 49:\n",
    "            print('Training Error Rate: '+str(cost(df, emb_user  , emb_movie)))\n",
    "            if df_val is not None:\n",
    "                print('Validation Error Rate: '+str(cost(df_val, emb_user, emb_movie)))\n",
    "    return emb_user, emb_movie"
   ]
  },
  {
   "cell_type": "code",
   "execution_count": 20,
   "metadata": {
    "ExecuteTime": {
     "end_time": "2019-05-25T03:19:25.151111Z",
     "start_time": "2019-05-25T03:19:23.834706Z"
    }
   },
   "outputs": [
    {
     "name": "stdout",
     "output_type": "stream",
     "text": [
      "Training Error Rate: 1.7013643061883719\n",
      "Training Error Rate: 0.9748705172056421\n",
      "Training Error Rate: 0.6991455656925724\n",
      "Training Error Rate: 0.5265621094145297\n",
      "Training Error Rate: 0.39009717387070564\n",
      "Training Error Rate: 0.27831199440666954\n",
      "Training Error Rate: 0.19147935796884605\n",
      "Training Error Rate: 0.12886261100552718\n",
      "Training Error Rate: 0.08647778051306698\n",
      "Training Error Rate: 0.05890081746897103\n",
      "Training Error Rate: 0.04123628994620466\n",
      "Training Error Rate: 0.029892049787387052\n",
      "Training Error Rate: 0.02249858175468944\n",
      "Training Error Rate: 0.017567111649942825\n",
      "Training Error Rate: 0.014178755207495756\n",
      "Training Error Rate: 0.011768396636592487\n",
      "Training Error Rate: 0.009987640000180828\n",
      "Training Error Rate: 0.008620533643235114\n",
      "Training Error Rate: 0.007532197477577391\n",
      "Training Error Rate: 0.006637556360077275\n"
     ]
    }
   ],
   "source": [
    "emb_user = create_embedings(num_users, 3)\n",
    "emb_movie = create_embedings(num_movies, 3)\n",
    "emb_user, emb_movie = gradient_descent(df, emb_user, emb_movie, iterations=1000, learning_rate=0.01)"
   ]
  },
  {
   "cell_type": "code",
   "execution_count": null,
   "metadata": {},
   "outputs": [],
   "source": []
  }
 ],
 "metadata": {
  "kernelspec": {
   "display_name": "Python 3",
   "language": "python",
   "name": "python3"
  },
  "language_info": {
   "codemirror_mode": {
    "name": "ipython",
    "version": 3
   },
   "file_extension": ".py",
   "mimetype": "text/x-python",
   "name": "python",
   "nbconvert_exporter": "python",
   "pygments_lexer": "ipython3",
   "version": "3.6.8"
  }
 },
 "nbformat": 4,
 "nbformat_minor": 2
}
