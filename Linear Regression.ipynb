{
 "cells": [
  {
   "cell_type": "markdown",
   "metadata": {},
   "source": [
    "A simple implementation of OLS Linear Regression. I fit the model using the projection matrix as it is computationally easier."
   ]
  },
  {
   "cell_type": "code",
   "execution_count": 3,
   "metadata": {
    "ExecuteTime": {
     "end_time": "2019-06-01T20:54:54.035547Z",
     "start_time": "2019-06-01T20:54:54.031693Z"
    }
   },
   "outputs": [],
   "source": [
    "import numpy as np"
   ]
  },
  {
   "cell_type": "code",
   "execution_count": 69,
   "metadata": {
    "ExecuteTime": {
     "end_time": "2019-06-01T21:33:54.928754Z",
     "start_time": "2019-06-01T21:33:54.923142Z"
    }
   },
   "outputs": [],
   "source": [
    "\n",
    "class LinearRegressor():\n",
    "\n",
    "    def __init__(self,X,y):\n",
    "        '''A linear regression class\n",
    "\n",
    "            Construction Parameters:\n",
    "                X: Your training input\n",
    "                y: Your training labels\n",
    "            Functions:\n",
    "                Predict:\n",
    "                    parameters:\n",
    "                        x: an input with the same number of values of X\n",
    "                    returns:\n",
    "                        prediction\n",
    "\n",
    "        '''\n",
    "        self.betas =np.dot(np.linalg.inv(X.T@X)@X.T,y)\n",
    "    def predict(self,x):\n",
    "        '''               \n",
    "        parameters:\n",
    "            x: an input with the same number of values of X\n",
    "        returns:\n",
    "            prediction\n",
    "        '''\n",
    "        return np.dot(x,self.betas)\n",
    "\n",
    "        "
   ]
  },
  {
   "cell_type": "code",
   "execution_count": 70,
   "metadata": {
    "ExecuteTime": {
     "end_time": "2019-06-01T21:33:55.597413Z",
     "start_time": "2019-06-01T21:33:55.593844Z"
    }
   },
   "outputs": [],
   "source": [
    "toy_data = np.array([\n",
    "    [1,2,4],\n",
    "    [1,1,1],\n",
    "    [0,0,5],\n",
    "    [4,2,2]\n",
    "])\n",
    "toy_y= np.array([1.5,2.3,1.2,5])"
   ]
  },
  {
   "cell_type": "code",
   "execution_count": 71,
   "metadata": {
    "ExecuteTime": {
     "end_time": "2019-06-01T21:33:56.085237Z",
     "start_time": "2019-06-01T21:33:56.077199Z"
    }
   },
   "outputs": [],
   "source": [
    "model = LinearRegressor(toy_data,toy_y)"
   ]
  },
  {
   "cell_type": "code",
   "execution_count": 72,
   "metadata": {
    "ExecuteTime": {
     "end_time": "2019-06-01T21:33:56.501877Z",
     "start_time": "2019-06-01T21:33:56.497309Z"
    }
   },
   "outputs": [
    {
     "data": {
      "text/plain": [
       "array([ 1.25523535, -0.14332373,  0.21402498])"
      ]
     },
     "execution_count": 72,
     "metadata": {},
     "output_type": "execute_result"
    }
   ],
   "source": [
    "model.betas"
   ]
  },
  {
   "cell_type": "code",
   "execution_count": 74,
   "metadata": {
    "ExecuteTime": {
     "end_time": "2019-06-01T21:34:16.877716Z",
     "start_time": "2019-06-01T21:34:16.872074Z"
    }
   },
   "outputs": [
    {
     "data": {
      "text/plain": [
       "array([1.8246878 , 1.3259366 , 1.07012488, 5.1623439 ])"
      ]
     },
     "execution_count": 74,
     "metadata": {},
     "output_type": "execute_result"
    }
   ],
   "source": [
    "model.predict(toy_data)"
   ]
  },
  {
   "cell_type": "code",
   "execution_count": null,
   "metadata": {},
   "outputs": [],
   "source": []
  }
 ],
 "metadata": {
  "kernelspec": {
   "display_name": "Python 3",
   "language": "python",
   "name": "python3"
  },
  "language_info": {
   "codemirror_mode": {
    "name": "ipython",
    "version": 3
   },
   "file_extension": ".py",
   "mimetype": "text/x-python",
   "name": "python",
   "nbconvert_exporter": "python",
   "pygments_lexer": "ipython3",
   "version": "3.6.8"
  }
 },
 "nbformat": 4,
 "nbformat_minor": 2
}
